{
 "cells": [
  {
   "cell_type": "markdown",
   "metadata": {
    "slideshow": {
     "slide_type": "slide"
    }
   },
   "source": [
    "## NOTTS - AI Monthly Catchup - April 2019\n",
    "\n",
    "### Ludwig, a Code-Free Deep Learning Toolbox\n",
    "\n",
    "\n",
    "While we wait...are you on slack yet?\n",
    "Yes, then good :)\n",
    "\n",
    "No, here is a cryptic invite\n",
    "- Head to https://notts.ai/\n",
    "- Bottom right corner (footer)\n",
    "- Find the invite"
   ]
  },
  {
   "cell_type": "markdown",
   "metadata": {
    "slideshow": {
     "slide_type": "slide"
    }
   },
   "source": [
    "## Previous Monthly Challenge - Face Verification\n",
    "\n",
    "A big shout-out to\n",
    "\n",
    "- Denisse. Her solution is available on [Github](https://github.com/denissearenas/face-recognition-image)\n",
    "- Ram"
   ]
  },
  {
   "cell_type": "markdown",
   "metadata": {
    "slideshow": {
     "slide_type": "slide"
    }
   },
   "source": [
    "## Ludwig\n",
    "\n",
    "Analogy:\n",
    ">*__if deep learning libraries provide the building blocks to make your building, Ludwig provides the buildings to make your city, and you can chose among the available buildings or add your own building to the set of available ones.__*\n",
    "\n",
    "What is Ludwig:\n",
    ">an open source, deep learning toolbox built on top of TensorFlow that allows users to train and test deep learning models without writing code.  \n",
    "\n",
    "Core Design Principles:\n",
    ">* No coding required\n",
    "- Generality\n",
    "- Flexibility\n",
    "- Extensibility\n",
    "- Understandability  \n",
    "\n",
    "Slide Credits: [Uber](https://uber.github.io/ludwig)"
   ]
  },
  {
   "cell_type": "markdown",
   "metadata": {
    "slideshow": {
     "slide_type": "subslide"
    }
   },
   "source": [
    "At the basic, Ludwig needs:\n",
    "\n",
    "- A tabular file (like CSV) containing the data \n",
    "- A YAML configuration file that specifies which columns of the tabular file are input features and which are output target variables\n",
    "\n",
    "Console:\n",
    "```\n",
    "ludwig train --data_csv path/to/file.csv --model_definition path/to/model_definition.yaml\n",
    "ludwig visualize --visualization learning_curves --training_statistics path/to/training_statistics.json\n",
    "ludwig predict --data_csv path/to/data.csv --model_path /path/to/model\n",
    "```\n",
    "\n",
    "API:\n",
    "```python\n",
    "import yaml\n",
    "from ludwig import LudwigModel\n",
    "\n",
    "model_definition = yaml.load(open('model_definition.yaml', 'r'))\n",
    "ludwig_model = LudwigModel(model_definition)\n",
    "train_stats = ludwig_model.train(data_csv='./chitchat.csv')\n",
    "model = ludwig_model.load('results/_run_0/model')\n",
    "results = model.predict(data_csv='./chitchat.csv')\n",
    "```\n",
    "\n",
    "Example at: https://github.com/Lazymindz/LudwigChatbot"
   ]
  },
  {
   "cell_type": "markdown",
   "metadata": {
    "slideshow": {
     "slide_type": "subslide"
    }
   },
   "source": [
    "Example:\n",
    "\n",
    "![](.\\images\\model_example.png)\n",
    "\n",
    "Slide credits: https://uber.github.io/ludwig/examples/"
   ]
  },
  {
   "cell_type": "markdown",
   "metadata": {
    "slideshow": {
     "slide_type": "subslide"
    }
   },
   "source": [
    "**The main new idea**\n",
    "\n",
    "![](.\\images\\input and output features.png)\n",
    "\n",
    "Slide Credits: https://eng.uber.com/introducing-ludwig/"
   ]
  },
  {
   "cell_type": "markdown",
   "metadata": {
    "slideshow": {
     "slide_type": "subslide"
    }
   },
   "source": [
    "**Visualisation of Results/Models**\n",
    "\n",
    "![](.\\images\\model_visualisation.png)"
   ]
  },
  {
   "cell_type": "markdown",
   "metadata": {
    "slideshow": {
     "slide_type": "subslide"
    }
   },
   "source": [
    "**Examples** Section covers sample models for:\n",
    "\n",
    "- Text Classification\n",
    "- Named Entity Recognition Tagging\n",
    "- Natural Language Understanding\n",
    "- Machine Translation\n",
    "- Chit-Chat Dialogue Modeling through Sequence2Sequence\n",
    "- Sentiment Analysis\n",
    "- Image Classification\n",
    "- Image Captioning\n",
    "- One-shot Learning with Siamese Networks\n",
    "- Visual Question Answering\n",
    "- Kaggle's Titanic: Predicting survivors\n",
    "- Time series forecasting\n",
    "- Movie rating prediction\n",
    "- Multi-label classification\n",
    "- Multi-Task Learning"
   ]
  },
  {
   "cell_type": "markdown",
   "metadata": {
    "slideshow": {
     "slide_type": "slide"
    }
   },
   "source": [
    "## Monthly Challenge (April 2019)\n",
    "\n",
    "\n",
    "Idea: At the next Meetup demo your implementation of 'Conversational AI' (aka chatbot)\n",
    "\n",
    "Details: Consider FAQs from a website. Build a simple bot that can small (Greet/Chat) and answer FAQs\n",
    "\n",
    "Dataset: Website FAQs"
   ]
  },
  {
   "cell_type": "markdown",
   "metadata": {
    "slideshow": {
     "slide_type": "subslide"
    }
   },
   "source": [
    "#### Some Notes\n",
    "\n",
    "- rasa\n",
    "    - https://github.com/JustinaPetr/Weatherbot_Tutorial\n",
    "    - https://github.com/paschmann/rasa-ui\n",
    "    - https://github.com/samtecspg/articulate\n",
    "  \n",
    "\n",
    "- Microsoft FAQ Bot\n",
    "    - https://www.qnamaker.ai/\n",
    "\n",
    "\n",
    "- Dialogflow\n",
    "    - https://dialogflow.com/\n",
    "    \n",
    "\n",
    "Datasets generation:\n",
    "- https://github.com/rodrigopivi/Chatito\n",
    "\n",
    "Comparison betweem Dialogflow/rasa:\n",
    "![](.\\images\\dialogflow_vs_rasa.png)\n"
   ]
  },
  {
   "cell_type": "markdown",
   "metadata": {
    "slideshow": {
     "slide_type": "slide"
    }
   },
   "source": [
    "## Elsewhere on the Internet\n",
    "\n",
    "- [minimaxir/automl-gs](https://github.com/minimaxir/automl-gs)\n",
    "\n",
    "- [Watch Me Build an AI Startup](https://www.youtube.com/watch?v=NzmoPqte4V4) - Siraj Raval \n"
   ]
  }
 ],
 "metadata": {
  "celltoolbar": "Slideshow",
  "kernelspec": {
   "display_name": "Python 2",
   "language": "python",
   "name": "python2"
  },
  "language_info": {
   "codemirror_mode": {
    "name": "ipython",
    "version": 2
   },
   "file_extension": ".py",
   "mimetype": "text/x-python",
   "name": "python",
   "nbconvert_exporter": "python",
   "pygments_lexer": "ipython2",
   "version": "2.7.13"
  }
 },
 "nbformat": 4,
 "nbformat_minor": 2
}

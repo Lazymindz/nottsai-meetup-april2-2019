{
 "cells": [
  {
   "cell_type": "markdown",
   "metadata": {
    "slideshow": {
     "slide_type": "slide"
    }
   },
   "source": [
    "## NOTTS - AI Monthly Catchup - April 2019\n",
    "\n",
    "### Ludwig, a Code-Free Deep Learning Toolbox\n",
    "\n",
    "\n",
    "While we wait...are you on slack yet?\n",
    "Yes, then good :)\n",
    "\n",
    "No, here is a cryptic invite\n",
    "- Head to https://notts.ai/\n",
    "- Bottom right corner (footer)\n",
    "- Find the invite"
   ]
  },
  {
   "cell_type": "markdown",
   "metadata": {
    "slideshow": {
     "slide_type": "slide"
    }
   },
   "source": [
    "## Previous Monthly Challenge - Face Verification\n",
    "\n",
    "A big shout-out to\n",
    "\n",
    "- Denisse. Her solution is available on [Github](https://github.com/denissearenas/face-recognition-image)\n",
    "- Ram"
   ]
  },
  {
   "cell_type": "markdown",
   "metadata": {
    "slideshow": {
     "slide_type": "slide"
    }
   },
   "source": [
    "## Ludwig\n",
    "\n",
    "\n",
    ">*__if deep learning libraries provide the building blocks to make your building, Ludwig provides the buildings to make your city, and you can chose among the available buildings or add your own building to the set of available ones.__*  \n",
    "\n",
    "\n",
    "\n",
    "Slide Credits: [Uber](https://uber.github.io/ludwig)"
   ]
  },
  {
   "cell_type": "markdown",
   "metadata": {
    "slideshow": {
     "slide_type": "subslide"
    }
   },
   "source": []
  },
  {
   "cell_type": "markdown",
   "metadata": {
    "slideshow": {
     "slide_type": "slide"
    }
   },
   "source": [
    "## Monthly Challenge (April 2019)\n",
    "\n",
    "\n",
    "Idea: At the next Meetup demo your implementation of 'Conversational AI' (aka chatbot)\n",
    "\n",
    "Details: Consider FAQs from a website. Build a simple bot that can small (Greet/Chat) and answer FAQs\n",
    "\n",
    "Dataset: Website FAQs"
   ]
  },
  {
   "cell_type": "markdown",
   "metadata": {
    "slideshow": {
     "slide_type": "subslide"
    }
   },
   "source": [
    "## Conversational AI (hints)\n",
    "\n",
    "- Weather Bot Tutorial\n",
    "- Microsoft FAQ Bot\n"
   ]
  },
  {
   "cell_type": "markdown",
   "metadata": {
    "slideshow": {
     "slide_type": "slide"
    }
   },
   "source": [
    "## Elsewhere on the Internet\n",
    "\n",
    "- [minimaxir/automl-gs](https://github.com/minimaxir/automl-gs)\n",
    "\n",
    "- [Watch Me Build an AI Startup](https://www.youtube.com/watch?v=NzmoPqte4V4) - Siraj Raval \n"
   ]
  },
  {
   "cell_type": "markdown",
   "metadata": {
    "slideshow": {
     "slide_type": "slide"
    }
   },
   "source": [
    "## Meetup Credits\n",
    "\n"
   ]
  }
 ],
 "metadata": {
  "celltoolbar": "Slideshow",
  "kernelspec": {
   "display_name": "Python 3",
   "language": "python",
   "name": "python3"
  },
  "language_info": {
   "codemirror_mode": {
    "name": "ipython",
    "version": 3
   },
   "file_extension": ".py",
   "mimetype": "text/x-python",
   "name": "python",
   "nbconvert_exporter": "python",
   "pygments_lexer": "ipython3",
   "version": "3.6.5"
  }
 },
 "nbformat": 4,
 "nbformat_minor": 2
}
